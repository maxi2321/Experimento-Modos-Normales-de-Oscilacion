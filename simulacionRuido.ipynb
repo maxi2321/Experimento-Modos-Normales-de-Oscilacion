{
 "cells": [
  {
   "cell_type": "code",
   "execution_count": 4,
   "id": "2f1d069f",
   "metadata": {},
   "outputs": [
    {
     "name": "stdout",
     "output_type": "stream",
     "text": [
      "Video generado con oscilación + ruido en X e Y: simulacion_carrito_ruido.mp4\n"
     ]
    }
   ],
   "source": [
    "import cv2\n",
    "import numpy as np\n",
    "import math\n",
    "\n",
    "# Parámetros de la simulación\n",
    "fps = 30\n",
    "duration = 10  # segundos\n",
    "frequency = 1  # Hz de oscilación\n",
    "amplitude = 100  # píxeles de desplazamiento horizontal\n",
    "video_width = 640\n",
    "video_height = 480\n",
    "center_x = video_width // 2\n",
    "center_y = video_height // 2\n",
    "\n",
    "# Ruido gaussiano (en píxeles)\n",
    "noise_std_x = 5  # desviación estándar del ruido en x\n",
    "noise_std_y = 2  # desviación estándar del ruido en y (más chico)\n",
    "\n",
    "# Video writer\n",
    "fourcc = cv2.VideoWriter_fourcc(*'mp4v')\n",
    "out = cv2.VideoWriter('simulacion_carrito_ruido.mp4', fourcc, fps, (video_width, video_height))\n",
    "\n",
    "# Generar el video\n",
    "for frame_num in range(int(fps * duration)):\n",
    "    t = frame_num / fps\n",
    "\n",
    "    # Movimiento principal en X\n",
    "    movimiento_seno = amplitude * math.sin(2 * math.pi * frequency * t)\n",
    "\n",
    "    # Ruido gaussiano en x e y\n",
    "    ruido_x = np.random.normal(0, noise_std_x)\n",
    "    ruido_y = np.random.normal(0, noise_std_y)\n",
    "\n",
    "    # Posiciones finales con ruido\n",
    "    x = int(center_x + movimiento_seno + ruido_x)\n",
    "    y = int(center_y + ruido_y)\n",
    "\n",
    "    # Crear imagen negra\n",
    "    frame = np.zeros((video_height, video_width, 3), dtype=np.uint8)\n",
    "\n",
    "    # Dibujar el punto azul\n",
    "    cv2.circle(frame, (x, y), 10, (255, 0, 0), -1)\n",
    "\n",
    "    out.write(frame)\n",
    "\n",
    "out.release()\n",
    "cv2.destroyAllWindows()\n",
    "\n",
    "print(\"Video generado con oscilación + ruido en X e Y: simulacion_carrito_ruido.mp4\")"
   ]
  },
  {
   "cell_type": "code",
   "execution_count": null,
   "id": "36a051de",
   "metadata": {},
   "outputs": [],
   "source": []
  }
 ],
 "metadata": {
  "kernelspec": {
   "display_name": ".venv",
   "language": "python",
   "name": "python3"
  },
  "language_info": {
   "codemirror_mode": {
    "name": "ipython",
    "version": 3
   },
   "file_extension": ".py",
   "mimetype": "text/x-python",
   "name": "python",
   "nbconvert_exporter": "python",
   "pygments_lexer": "ipython3",
   "version": "3.13.0"
  }
 },
 "nbformat": 4,
 "nbformat_minor": 5
}
