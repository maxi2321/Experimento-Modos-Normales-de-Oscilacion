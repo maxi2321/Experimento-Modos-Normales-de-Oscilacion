{
 "cells": [
  {
   "cell_type": "code",
   "execution_count": null,
   "id": "2e9b623e",
   "metadata": {},
   "outputs": [
    {
     "name": "stderr",
     "output_type": "stream",
     "text": [
      "2025-05-15 18:47:25.021 Python[91742:4176348] +[IMKClient subclass]: chose IMKClient_Modern\n",
      "2025-05-15 18:47:25.021 Python[91742:4176348] +[IMKInputSession subclass]: chose IMKInputSession_Modern\n"
     ]
    },
    {
     "ename": "KeyboardInterrupt",
     "evalue": "",
     "output_type": "error",
     "traceback": [
      "\u001b[31m---------------------------------------------------------------------------\u001b[39m",
      "\u001b[31mKeyboardInterrupt\u001b[39m                         Traceback (most recent call last)",
      "\u001b[36mCell\u001b[39m\u001b[36m \u001b[39m\u001b[32mIn[1]\u001b[39m\u001b[32m, line 32\u001b[39m\n\u001b[32m     29\u001b[39m cv2.imshow(\u001b[33m\"\u001b[39m\u001b[33mBlanco detectado\u001b[39m\u001b[33m\"\u001b[39m, frame)\n\u001b[32m     31\u001b[39m \u001b[38;5;66;03m# Presionar 'q' para salir\u001b[39;00m\n\u001b[32m---> \u001b[39m\u001b[32m32\u001b[39m \u001b[38;5;28;01mif\u001b[39;00m \u001b[43mcv2\u001b[49m\u001b[43m.\u001b[49m\u001b[43mwaitKey\u001b[49m\u001b[43m(\u001b[49m\u001b[32;43m1\u001b[39;49m\u001b[43m)\u001b[49m & \u001b[32m0xFF\u001b[39m == \u001b[38;5;28mord\u001b[39m(\u001b[33m'\u001b[39m\u001b[33mq\u001b[39m\u001b[33m'\u001b[39m):\n\u001b[32m     33\u001b[39m     \u001b[38;5;28;01mbreak\u001b[39;00m\n\u001b[32m     35\u001b[39m \u001b[38;5;66;03m# (Opcional) Guardar datos\u001b[39;00m\n",
      "\u001b[31mKeyboardInterrupt\u001b[39m: "
     ]
    },
    {
     "ename": "",
     "evalue": "",
     "output_type": "error",
     "traceback": [
      "\u001b[1;31mEl kernel se bloqueó al ejecutar código en la celda actual o en una celda anterior. \n",
      "\u001b[1;31mRevise el código de las celdas para identificar una posible causa del error. \n",
      "\u001b[1;31mHaga clic <a href='https://aka.ms/vscodeJupyterKernelCrash'>aquí</a> para obtener más información. \n",
      "\u001b[1;31mVea Jupyter <a href='command:jupyter.viewOutput'>log</a> para obtener más detalles."
     ]
    }
   ],
   "source": [
    "import cv2\n",
    "import numpy as np\n",
    "import pandas as pd\n",
    "import matplotlib.pyplot as plt\n",
    "from time import time\n",
    "\n",
    "# Inicializar cámara\n",
    "cap = cv2.VideoCapture(0)\n",
    "if not cap.isOpened():\n",
    "    raise IOError(\"No se pudo acceder a la cámara\")\n",
    "\n",
    "# Crear ventana\n",
    "cv2.namedWindow(\"Blanco detectado\", cv2.WINDOW_NORMAL)\n",
    "\n",
    "# Parámetros\n",
    "fps = 30\n",
    "datos = []\n",
    "frame_count = 0\n",
    "start_time = time()\n",
    "\n",
    "try:\n",
    "    while True:\n",
    "        ret, frame = cap.read()\n",
    "        if not ret:\n",
    "            print(\"No se pudo leer el frame\")\n",
    "            break\n",
    "\n",
    "        # Mostrar en pantalla\n",
    "        cv2.imshow(\"Blanco detectado\", frame)\n",
    "\n",
    "        # Presionar 'q' para salir\n",
    "        if cv2.waitKey(1) & 0xFF == ord('q'):\n",
    "            break\n",
    "\n",
    "        # (Opcional) Guardar datos\n",
    "        frame_count += 1\n",
    "        tiempo = time() - start_time\n",
    "        datos.append([tiempo, frame_count])\n",
    "\n",
    "finally:\n",
    "    cap.release()\n",
    "    cv2.destroyAllWindows()"
   ]
  }
 ],
 "metadata": {
  "kernelspec": {
   "display_name": ".venv",
   "language": "python",
   "name": "python3"
  },
  "language_info": {
   "codemirror_mode": {
    "name": "ipython",
    "version": 3
   },
   "file_extension": ".py",
   "mimetype": "text/x-python",
   "name": "python",
   "nbconvert_exporter": "python",
   "pygments_lexer": "ipython3",
   "version": "3.13.0"
  }
 },
 "nbformat": 4,
 "nbformat_minor": 5
}
