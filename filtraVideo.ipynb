{
 "cells": [
  {
   "cell_type": "code",
   "execution_count": null,
   "id": "0c08a586",
   "metadata": {},
   "outputs": [
    {
     "name": "stderr",
     "output_type": "stream",
     "text": [
      "2025-05-14 15:30:48.577 Python[79640:3795827] +[IMKClient subclass]: chose IMKClient_Modern\n",
      "2025-05-14 15:30:48.577 Python[79640:3795827] +[IMKInputSession subclass]: chose IMKInputSession_Modern\n"
     ]
    },
    {
     "name": "stdout",
     "output_type": "stream",
     "text": [
      "✅ Video guardado en: video_filtrado.mp4\n"
     ]
    },
    {
     "ename": "",
     "evalue": "",
     "output_type": "error",
     "traceback": [
      "\u001b[1;31mEl kernel se bloqueó al ejecutar código en la celda actual o en una celda anterior. \n",
      "\u001b[1;31mRevise el código de las celdas para identificar una posible causa del error. \n",
      "\u001b[1;31mHaga clic <a href='https://aka.ms/vscodeJupyterKernelCrash'>aquí</a> para obtener más información. \n",
      "\u001b[1;31mVea Jupyter <a href='command:jupyter.viewOutput'>log</a> para obtener más detalles."
     ]
    }
   ],
   "source": [
    "import cv2\n",
    "import numpy as np\n",
    "\n",
    "# -----------------------------\n",
    "# Parámetros configurables\n",
    "# -----------------------------\n",
    "video_path = \"/Users/admin/Documents/Fisica experimental/experimento modos normales/videos_14:05/WhatsApp Video 2025-05-14 at 14.46.06.mp4\"  # Cambiá esto por tu ruta\n",
    "output_path = \"video_filtrado.mp4\"\n",
    "resolucion = (640, 480)  # Ajustar según tu video\n",
    "fps = 30\n",
    "\n",
    "# Rango de color en BGR (ejemplo: rojo puro)\n",
    "color_bgr_min = np.array([0, 0, 100])   # B = 0, G = 0, R > 100\n",
    "color_bgr_max = np.array([80, 80, 255]) # B < 80, G < 80, R hasta 255\n",
    "\n",
    "# -----------------------------\n",
    "# Inicialización\n",
    "# -----------------------------\n",
    "cap = cv2.VideoCapture(video_path)\n",
    "if not cap.isOpened():\n",
    "    print(\"Error: no se pudo abrir el video.\")\n",
    "    exit()\n",
    "\n",
    "# Configurar el video writer para guardar el video filtrado\n",
    "fourcc = cv2.VideoWriter_fourcc(*'mp4v')\n",
    "out = cv2.VideoWriter(output_path, fourcc, fps, resolucion)\n",
    "\n",
    "while True:\n",
    "    ret, frame = cap.read()\n",
    "    if not ret:\n",
    "        break\n",
    "\n",
    "    # Redimensionar si es necesario\n",
    "    frame = cv2.resize(frame, resolucion)\n",
    "\n",
    "    # Aplicar máscara RGB\n",
    "    mask = cv2.inRange(frame, color_bgr_min, color_bgr_max)\n",
    "    filtrado = cv2.bitwise_and(frame, frame, mask=mask)\n",
    "\n",
    "    # Mostrar en tiempo real\n",
    "    cv2.imshow('Video Filtrado (RGB)', filtrado)\n",
    "    out.write(filtrado)\n",
    "\n",
    "    if cv2.waitKey(1) & 0xFF == ord('q'):\n",
    "        break\n",
    "\n",
    "# -----------------------------\n",
    "# Liberar recursos\n",
    "# -----------------------------\n",
    "cap.release()\n",
    "out.release()\n",
    "cv2.destroyAllWindows()\n",
    "print(f\"✅ Video guardado en: {output_path}\")"
   ]
  }
 ],
 "metadata": {
  "kernelspec": {
   "display_name": ".venv",
   "language": "python",
   "name": "python3"
  },
  "language_info": {
   "codemirror_mode": {
    "name": "ipython",
    "version": 3
   },
   "file_extension": ".py",
   "mimetype": "text/x-python",
   "name": "python",
   "nbconvert_exporter": "python",
   "pygments_lexer": "ipython3",
   "version": "3.13.0"
  }
 },
 "nbformat": 4,
 "nbformat_minor": 5
}
