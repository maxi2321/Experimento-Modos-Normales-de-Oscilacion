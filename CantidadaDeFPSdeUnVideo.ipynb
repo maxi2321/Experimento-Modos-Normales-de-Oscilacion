{
 "cells": [
  {
   "cell_type": "code",
   "execution_count": 1,
   "id": "d5aa86bb",
   "metadata": {},
   "outputs": [
    {
     "name": "stdout",
     "output_type": "stream",
     "text": [
      "🎥 El video tiene 30.00 FPS\n"
     ]
    }
   ],
   "source": [
    "import cv2\n",
    "\n",
    "# --- Ruta del video ---\n",
    "ruta_video = '/Users/admin/Documents/Fisica experimental/Experimento-Modos-Normales-de-Oscilacion/experimento_20250602_152024/video_original.avi'\n",
    "\n",
    "# --- Cargar video ---\n",
    "cap = cv2.VideoCapture(ruta_video)\n",
    "\n",
    "if not cap.isOpened():\n",
    "    print(\"❌ No se pudo abrir el video.\")\n",
    "else:\n",
    "    fps = cap.get(cv2.CAP_PROP_FPS)\n",
    "    print(f\"🎥 El video tiene {fps:.2f} FPS\")\n",
    "\n",
    "cap.release()"
   ]
  }
 ],
 "metadata": {
  "kernelspec": {
   "display_name": ".venv",
   "language": "python",
   "name": "python3"
  },
  "language_info": {
   "codemirror_mode": {
    "name": "ipython",
    "version": 3
   },
   "file_extension": ".py",
   "mimetype": "text/x-python",
   "name": "python",
   "nbconvert_exporter": "python",
   "pygments_lexer": "ipython3",
   "version": "3.13.0"
  }
 },
 "nbformat": 4,
 "nbformat_minor": 5
}
