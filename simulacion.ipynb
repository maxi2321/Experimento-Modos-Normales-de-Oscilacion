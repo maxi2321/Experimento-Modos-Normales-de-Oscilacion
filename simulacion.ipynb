{
 "cells": [
  {
   "cell_type": "code",
   "execution_count": null,
   "id": "70c5d52d",
   "metadata": {},
   "outputs": [
    {
     "ename": "TypeError",
     "evalue": "unsupported operand type(s) for +: 'int' and 'method-wrapper'",
     "output_type": "error",
     "traceback": [
      "\u001b[31m---------------------------------------------------------------------------\u001b[39m",
      "\u001b[31mTypeError\u001b[39m                                 Traceback (most recent call last)",
      "\u001b[36mCell\u001b[39m\u001b[36m \u001b[39m\u001b[32mIn[1]\u001b[39m\u001b[32m, line 25\u001b[39m\n\u001b[32m     22\u001b[39m t = frame_num / fps\n\u001b[32m     24\u001b[39m \u001b[38;5;66;03m# Movimiento armónico simple (función seno)\u001b[39;00m\n\u001b[32m---> \u001b[39m\u001b[32m25\u001b[39m x = \u001b[43mcenter_x\u001b[49m\u001b[43m \u001b[49m\u001b[43m+\u001b[49m\u001b[43m \u001b[49m\u001b[38;5;28;43mint\u001b[39;49m\u001b[43m(\u001b[49m\u001b[43mamplitude\u001b[49m\u001b[43m \u001b[49m\u001b[43m*\u001b[49m\u001b[43m \u001b[49m\u001b[43mmath\u001b[49m\u001b[43m.\u001b[49m\u001b[43msin\u001b[49m\u001b[43m(\u001b[49m\u001b[32;43m2\u001b[39;49m\u001b[43m \u001b[49m\u001b[43m*\u001b[49m\u001b[43m \u001b[49m\u001b[43mmath\u001b[49m\u001b[43m.\u001b[49m\u001b[43mpi\u001b[49m\u001b[43m \u001b[49m\u001b[43m*\u001b[49m\u001b[43m \u001b[49m\u001b[43mfrequency\u001b[49m\u001b[43m \u001b[49m\u001b[43m*\u001b[49m\u001b[43m \u001b[49m\u001b[43mt\u001b[49m\u001b[43m)\u001b[49m\u001b[43m)\u001b[49m\u001b[43m.\u001b[49m\u001b[34;43m__rand__\u001b[39;49m\n\u001b[32m     27\u001b[39m \u001b[38;5;66;03m# Crear imagen en negro\u001b[39;00m\n\u001b[32m     28\u001b[39m frame = np.zeros((video_height, video_width, \u001b[32m3\u001b[39m), dtype=np.uint8)\n",
      "\u001b[31mTypeError\u001b[39m: unsupported operand type(s) for +: 'int' and 'method-wrapper'"
     ]
    }
   ],
   "source": [
    "import cv2\n",
    "import numpy as np\n",
    "import math\n",
    "\n",
    "# Parámetros\n",
    "fps = 30  # Fotogramas por segundo\n",
    "duration = 10  # Duración del video en segundos\n",
    "frequency = 10  # Frecuencia de oscilación en Hz (1 ciclo por segundo)\n",
    "amplitude = 100  # Amplitud del movimiento (pixels)\n",
    "video_width = 640  # Ancho del video (pixeles)\n",
    "video_height = 480  # Alto del video (pixeles)\n",
    "center_x = video_width // 2  # Centro del video (para el movimiento horizontal)\n",
    "center_y = video_height // 2  # Centro vertical (fijo)\n",
    "\n",
    "# Video writer\n",
    "fourcc = cv2.VideoWriter_fourcc(*'XVID')\n",
    "out = cv2.VideoWriter('simulacion_carrito.avi', fourcc, fps, (video_width, video_height))\n",
    "\n",
    "# Generar el video\n",
    "for frame_num in range(int(fps * duration)):\n",
    "    # Tiempo en segundos\n",
    "    t = frame_num / fps\n",
    "    \n",
    "    # Movimiento armónico simple (función seno)\n",
    "    x = center_x + int(amplitude * math.sin(2 * math.pi * frequency * t))\n",
    "    \n",
    "    # Crear imagen en negro\n",
    "    frame = np.zeros((video_height, video_width, 3), dtype=np.uint8)\n",
    "    \n",
    "    # Dibujar el punto azul\n",
    "    cv2.circle(frame, (x, center_y), 10, (255, 0, 0), -1)  # Color BGR para azul\n",
    "    \n",
    "    # Escribir el frame al video\n",
    "    out.write(frame)\n",
    "\n",
    "# Liberar recursos\n",
    "out.release()\n",
    "cv2.destroyAllWindows()\n",
    "\n",
    "print(\"Video generado exitosamente.\")"
   ]
  },
  {
   "cell_type": "code",
   "execution_count": null,
   "id": "0d1e9f22",
   "metadata": {},
   "outputs": [],
   "source": []
  }
 ],
 "metadata": {
  "kernelspec": {
   "display_name": ".venv",
   "language": "python",
   "name": "python3"
  },
  "language_info": {
   "codemirror_mode": {
    "name": "ipython",
    "version": 3
   },
   "file_extension": ".py",
   "mimetype": "text/x-python",
   "name": "python",
   "nbconvert_exporter": "python",
   "pygments_lexer": "ipython3",
   "version": "3.11.9"
  }
 },
 "nbformat": 4,
 "nbformat_minor": 5
}
